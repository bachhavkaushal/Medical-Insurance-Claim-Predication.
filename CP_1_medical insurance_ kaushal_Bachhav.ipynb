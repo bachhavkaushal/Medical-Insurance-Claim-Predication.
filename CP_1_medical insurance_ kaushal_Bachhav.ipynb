{
 "cells": [
  {
   "cell_type": "markdown",
   "id": "84c8a63f",
   "metadata": {},
   "source": [
    "# Import Libraries"
   ]
  },
  {
   "cell_type": "code",
   "execution_count": 1,
   "id": "6c8d087f",
   "metadata": {},
   "outputs": [
    {
     "name": "stderr",
     "output_type": "stream",
     "text": [
      "C:\\ProgramData\\Anaconda3\\lib\\site-packages\\scipy\\__init__.py:155: UserWarning: A NumPy version >=1.18.5 and <1.25.0 is required for this version of SciPy (detected version 1.26.3\n",
      "  warnings.warn(f\"A NumPy version >={np_minversion} and <{np_maxversion}\"\n"
     ]
    }
   ],
   "source": [
    "import pandas as pd\n",
    "import numpy as np\n",
    "import matplotlib.pyplot as plt\n",
    "import seaborn as sns"
   ]
  },
  {
   "cell_type": "code",
   "execution_count": 2,
   "id": "80d53e4a",
   "metadata": {},
   "outputs": [],
   "source": [
    "mi=pd.read_csv(r\"E:\\drive c\\Python\\insurance_data.csv\")"
   ]
  },
  {
   "cell_type": "markdown",
   "id": "f065f00b",
   "metadata": {},
   "source": [
    "# Data Cleaning"
   ]
  },
  {
   "cell_type": "code",
   "execution_count": 3,
   "id": "d4e6d69b",
   "metadata": {},
   "outputs": [
    {
     "data": {
      "text/html": [
       "<div>\n",
       "<style scoped>\n",
       "    .dataframe tbody tr th:only-of-type {\n",
       "        vertical-align: middle;\n",
       "    }\n",
       "\n",
       "    .dataframe tbody tr th {\n",
       "        vertical-align: top;\n",
       "    }\n",
       "\n",
       "    .dataframe thead th {\n",
       "        text-align: right;\n",
       "    }\n",
       "</style>\n",
       "<table border=\"1\" class=\"dataframe\">\n",
       "  <thead>\n",
       "    <tr style=\"text-align: right;\">\n",
       "      <th></th>\n",
       "      <th>PatientID</th>\n",
       "      <th>age</th>\n",
       "      <th>gender</th>\n",
       "      <th>bmi</th>\n",
       "      <th>bloodpressure</th>\n",
       "      <th>diabetic</th>\n",
       "      <th>children</th>\n",
       "      <th>smoker</th>\n",
       "      <th>region</th>\n",
       "      <th>claim</th>\n",
       "    </tr>\n",
       "  </thead>\n",
       "  <tbody>\n",
       "    <tr>\n",
       "      <th>0</th>\n",
       "      <td>1</td>\n",
       "      <td>39</td>\n",
       "      <td>male</td>\n",
       "      <td>23.2</td>\n",
       "      <td>91</td>\n",
       "      <td>Yes</td>\n",
       "      <td>0</td>\n",
       "      <td>No</td>\n",
       "      <td>southeast</td>\n",
       "      <td>1121.87</td>\n",
       "    </tr>\n",
       "    <tr>\n",
       "      <th>1</th>\n",
       "      <td>2</td>\n",
       "      <td>24</td>\n",
       "      <td>male</td>\n",
       "      <td>30.1</td>\n",
       "      <td>87</td>\n",
       "      <td>No</td>\n",
       "      <td>0</td>\n",
       "      <td>No</td>\n",
       "      <td>southeast</td>\n",
       "      <td>1131.51</td>\n",
       "    </tr>\n",
       "    <tr>\n",
       "      <th>2</th>\n",
       "      <td>3</td>\n",
       "      <td>27</td>\n",
       "      <td>male</td>\n",
       "      <td>33.3</td>\n",
       "      <td>82</td>\n",
       "      <td>Yes</td>\n",
       "      <td>0</td>\n",
       "      <td>No</td>\n",
       "      <td>southeast</td>\n",
       "      <td>1135.94</td>\n",
       "    </tr>\n",
       "    <tr>\n",
       "      <th>3</th>\n",
       "      <td>4</td>\n",
       "      <td>37</td>\n",
       "      <td>male</td>\n",
       "      <td>33.7</td>\n",
       "      <td>80</td>\n",
       "      <td>No</td>\n",
       "      <td>0</td>\n",
       "      <td>No</td>\n",
       "      <td>northwest</td>\n",
       "      <td>1136.40</td>\n",
       "    </tr>\n",
       "    <tr>\n",
       "      <th>4</th>\n",
       "      <td>5</td>\n",
       "      <td>30</td>\n",
       "      <td>male</td>\n",
       "      <td>34.1</td>\n",
       "      <td>100</td>\n",
       "      <td>No</td>\n",
       "      <td>0</td>\n",
       "      <td>No</td>\n",
       "      <td>northwest</td>\n",
       "      <td>1137.01</td>\n",
       "    </tr>\n",
       "  </tbody>\n",
       "</table>\n",
       "</div>"
      ],
      "text/plain": [
       "   PatientID  age gender   bmi  bloodpressure diabetic  children smoker  \\\n",
       "0          1   39   male  23.2             91      Yes         0     No   \n",
       "1          2   24   male  30.1             87       No         0     No   \n",
       "2          3   27   male  33.3             82      Yes         0     No   \n",
       "3          4   37   male  33.7             80       No         0     No   \n",
       "4          5   30   male  34.1            100       No         0     No   \n",
       "\n",
       "      region    claim  \n",
       "0  southeast  1121.87  \n",
       "1  southeast  1131.51  \n",
       "2  southeast  1135.94  \n",
       "3  northwest  1136.40  \n",
       "4  northwest  1137.01  "
      ]
     },
     "execution_count": 3,
     "metadata": {},
     "output_type": "execute_result"
    }
   ],
   "source": [
    "mi.head()"
   ]
  },
  {
   "cell_type": "code",
   "execution_count": 4,
   "id": "576fad39",
   "metadata": {},
   "outputs": [
    {
     "data": {
      "text/plain": [
       "PatientID        0\n",
       "age              0\n",
       "gender           0\n",
       "bmi              0\n",
       "bloodpressure    0\n",
       "diabetic         0\n",
       "children         0\n",
       "smoker           0\n",
       "region           0\n",
       "claim            0\n",
       "dtype: int64"
      ]
     },
     "execution_count": 4,
     "metadata": {},
     "output_type": "execute_result"
    }
   ],
   "source": [
    "mi.isnull().sum()"
   ]
  },
  {
   "cell_type": "code",
   "execution_count": 5,
   "id": "ddbff509",
   "metadata": {},
   "outputs": [
    {
     "data": {
      "text/plain": [
       "Index(['PatientID', 'age', 'gender', 'bmi', 'bloodpressure', 'diabetic',\n",
       "       'children', 'smoker', 'region', 'claim'],\n",
       "      dtype='object')"
      ]
     },
     "execution_count": 5,
     "metadata": {},
     "output_type": "execute_result"
    }
   ],
   "source": [
    "mi.columns"
   ]
  },
  {
   "cell_type": "code",
   "execution_count": 6,
   "id": "63fadce6",
   "metadata": {},
   "outputs": [
    {
     "name": "stdout",
     "output_type": "stream",
     "text": [
      "<class 'pandas.core.frame.DataFrame'>\n",
      "RangeIndex: 1340 entries, 0 to 1339\n",
      "Data columns (total 10 columns):\n",
      " #   Column         Non-Null Count  Dtype  \n",
      "---  ------         --------------  -----  \n",
      " 0   PatientID      1340 non-null   int64  \n",
      " 1   age            1340 non-null   int64  \n",
      " 2   gender         1340 non-null   object \n",
      " 3   bmi            1340 non-null   float64\n",
      " 4   bloodpressure  1340 non-null   int64  \n",
      " 5   diabetic       1340 non-null   object \n",
      " 6   children       1340 non-null   int64  \n",
      " 7   smoker         1340 non-null   object \n",
      " 8   region         1340 non-null   object \n",
      " 9   claim          1340 non-null   float64\n",
      "dtypes: float64(2), int64(4), object(4)\n",
      "memory usage: 104.8+ KB\n"
     ]
    }
   ],
   "source": [
    "mi.info()"
   ]
  },
  {
   "cell_type": "code",
   "execution_count": 7,
   "id": "ff3a1d07",
   "metadata": {},
   "outputs": [],
   "source": [
    "from sklearn.preprocessing import LabelEncoder\n",
    "le= LabelEncoder()"
   ]
  },
  {
   "cell_type": "code",
   "execution_count": 8,
   "id": "157b73e9",
   "metadata": {},
   "outputs": [],
   "source": [
    "mi[mi.select_dtypes(include=['object']).columns]=mi[mi.select_dtypes(include=['object']).columns].apply(le.fit_transform)"
   ]
  },
  {
   "cell_type": "code",
   "execution_count": 9,
   "id": "6660c54f",
   "metadata": {},
   "outputs": [
    {
     "name": "stdout",
     "output_type": "stream",
     "text": [
      "<class 'pandas.core.frame.DataFrame'>\n",
      "RangeIndex: 1340 entries, 0 to 1339\n",
      "Data columns (total 10 columns):\n",
      " #   Column         Non-Null Count  Dtype  \n",
      "---  ------         --------------  -----  \n",
      " 0   PatientID      1340 non-null   int64  \n",
      " 1   age            1340 non-null   int64  \n",
      " 2   gender         1340 non-null   int32  \n",
      " 3   bmi            1340 non-null   float64\n",
      " 4   bloodpressure  1340 non-null   int64  \n",
      " 5   diabetic       1340 non-null   int32  \n",
      " 6   children       1340 non-null   int64  \n",
      " 7   smoker         1340 non-null   int32  \n",
      " 8   region         1340 non-null   int32  \n",
      " 9   claim          1340 non-null   float64\n",
      "dtypes: float64(2), int32(4), int64(4)\n",
      "memory usage: 83.9 KB\n"
     ]
    }
   ],
   "source": [
    "mi.info()"
   ]
  },
  {
   "cell_type": "code",
   "execution_count": 10,
   "id": "58edbacd",
   "metadata": {},
   "outputs": [
    {
     "data": {
      "text/html": [
       "<div>\n",
       "<style scoped>\n",
       "    .dataframe tbody tr th:only-of-type {\n",
       "        vertical-align: middle;\n",
       "    }\n",
       "\n",
       "    .dataframe tbody tr th {\n",
       "        vertical-align: top;\n",
       "    }\n",
       "\n",
       "    .dataframe thead th {\n",
       "        text-align: right;\n",
       "    }\n",
       "</style>\n",
       "<table border=\"1\" class=\"dataframe\">\n",
       "  <thead>\n",
       "    <tr style=\"text-align: right;\">\n",
       "      <th></th>\n",
       "      <th>PatientID</th>\n",
       "      <th>age</th>\n",
       "      <th>gender</th>\n",
       "      <th>bmi</th>\n",
       "      <th>bloodpressure</th>\n",
       "      <th>diabetic</th>\n",
       "      <th>children</th>\n",
       "      <th>smoker</th>\n",
       "      <th>region</th>\n",
       "      <th>claim</th>\n",
       "    </tr>\n",
       "  </thead>\n",
       "  <tbody>\n",
       "    <tr>\n",
       "      <th>count</th>\n",
       "      <td>1340.000000</td>\n",
       "      <td>1340.000000</td>\n",
       "      <td>1340.000000</td>\n",
       "      <td>1340.000000</td>\n",
       "      <td>1340.000000</td>\n",
       "      <td>1340.000000</td>\n",
       "      <td>1340.000000</td>\n",
       "      <td>1340.000000</td>\n",
       "      <td>1340.000000</td>\n",
       "      <td>1340.000000</td>\n",
       "    </tr>\n",
       "    <tr>\n",
       "      <th>mean</th>\n",
       "      <td>670.500000</td>\n",
       "      <td>38.063433</td>\n",
       "      <td>0.505970</td>\n",
       "      <td>30.668955</td>\n",
       "      <td>94.157463</td>\n",
       "      <td>0.479104</td>\n",
       "      <td>1.093284</td>\n",
       "      <td>0.204478</td>\n",
       "      <td>1.631343</td>\n",
       "      <td>13252.745642</td>\n",
       "    </tr>\n",
       "    <tr>\n",
       "      <th>std</th>\n",
       "      <td>386.968991</td>\n",
       "      <td>11.093991</td>\n",
       "      <td>0.500151</td>\n",
       "      <td>6.106735</td>\n",
       "      <td>11.434712</td>\n",
       "      <td>0.499750</td>\n",
       "      <td>1.205334</td>\n",
       "      <td>0.403470</td>\n",
       "      <td>1.025399</td>\n",
       "      <td>12109.609288</td>\n",
       "    </tr>\n",
       "    <tr>\n",
       "      <th>min</th>\n",
       "      <td>1.000000</td>\n",
       "      <td>18.000000</td>\n",
       "      <td>0.000000</td>\n",
       "      <td>16.000000</td>\n",
       "      <td>80.000000</td>\n",
       "      <td>0.000000</td>\n",
       "      <td>0.000000</td>\n",
       "      <td>0.000000</td>\n",
       "      <td>0.000000</td>\n",
       "      <td>1121.870000</td>\n",
       "    </tr>\n",
       "    <tr>\n",
       "      <th>25%</th>\n",
       "      <td>335.750000</td>\n",
       "      <td>29.000000</td>\n",
       "      <td>0.000000</td>\n",
       "      <td>26.275000</td>\n",
       "      <td>86.000000</td>\n",
       "      <td>0.000000</td>\n",
       "      <td>0.000000</td>\n",
       "      <td>0.000000</td>\n",
       "      <td>1.000000</td>\n",
       "      <td>4719.685000</td>\n",
       "    </tr>\n",
       "    <tr>\n",
       "      <th>50%</th>\n",
       "      <td>670.500000</td>\n",
       "      <td>37.500000</td>\n",
       "      <td>1.000000</td>\n",
       "      <td>30.400000</td>\n",
       "      <td>92.000000</td>\n",
       "      <td>0.000000</td>\n",
       "      <td>1.000000</td>\n",
       "      <td>0.000000</td>\n",
       "      <td>2.000000</td>\n",
       "      <td>9369.615000</td>\n",
       "    </tr>\n",
       "    <tr>\n",
       "      <th>75%</th>\n",
       "      <td>1005.250000</td>\n",
       "      <td>47.000000</td>\n",
       "      <td>1.000000</td>\n",
       "      <td>34.700000</td>\n",
       "      <td>99.000000</td>\n",
       "      <td>1.000000</td>\n",
       "      <td>2.000000</td>\n",
       "      <td>0.000000</td>\n",
       "      <td>2.000000</td>\n",
       "      <td>16604.305000</td>\n",
       "    </tr>\n",
       "    <tr>\n",
       "      <th>max</th>\n",
       "      <td>1340.000000</td>\n",
       "      <td>60.000000</td>\n",
       "      <td>1.000000</td>\n",
       "      <td>53.100000</td>\n",
       "      <td>140.000000</td>\n",
       "      <td>1.000000</td>\n",
       "      <td>5.000000</td>\n",
       "      <td>1.000000</td>\n",
       "      <td>3.000000</td>\n",
       "      <td>63770.430000</td>\n",
       "    </tr>\n",
       "  </tbody>\n",
       "</table>\n",
       "</div>"
      ],
      "text/plain": [
       "         PatientID          age       gender          bmi  bloodpressure  \\\n",
       "count  1340.000000  1340.000000  1340.000000  1340.000000    1340.000000   \n",
       "mean    670.500000    38.063433     0.505970    30.668955      94.157463   \n",
       "std     386.968991    11.093991     0.500151     6.106735      11.434712   \n",
       "min       1.000000    18.000000     0.000000    16.000000      80.000000   \n",
       "25%     335.750000    29.000000     0.000000    26.275000      86.000000   \n",
       "50%     670.500000    37.500000     1.000000    30.400000      92.000000   \n",
       "75%    1005.250000    47.000000     1.000000    34.700000      99.000000   \n",
       "max    1340.000000    60.000000     1.000000    53.100000     140.000000   \n",
       "\n",
       "          diabetic     children       smoker       region         claim  \n",
       "count  1340.000000  1340.000000  1340.000000  1340.000000   1340.000000  \n",
       "mean      0.479104     1.093284     0.204478     1.631343  13252.745642  \n",
       "std       0.499750     1.205334     0.403470     1.025399  12109.609288  \n",
       "min       0.000000     0.000000     0.000000     0.000000   1121.870000  \n",
       "25%       0.000000     0.000000     0.000000     1.000000   4719.685000  \n",
       "50%       0.000000     1.000000     0.000000     2.000000   9369.615000  \n",
       "75%       1.000000     2.000000     0.000000     2.000000  16604.305000  \n",
       "max       1.000000     5.000000     1.000000     3.000000  63770.430000  "
      ]
     },
     "execution_count": 10,
     "metadata": {},
     "output_type": "execute_result"
    }
   ],
   "source": [
    "mi.describe()"
   ]
  },
  {
   "cell_type": "code",
   "execution_count": 11,
   "id": "461ceeb8",
   "metadata": {},
   "outputs": [
    {
     "data": {
      "text/plain": [
       "(1340, 10)"
      ]
     },
     "execution_count": 11,
     "metadata": {},
     "output_type": "execute_result"
    }
   ],
   "source": [
    "mi.shape"
   ]
  },
  {
   "cell_type": "markdown",
   "id": "2b943ece",
   "metadata": {},
   "source": [
    "# Data Visualization:"
   ]
  },
  {
   "cell_type": "code",
   "execution_count": 12,
   "id": "d00c923e",
   "metadata": {},
   "outputs": [
    {
     "name": "stderr",
     "output_type": "stream",
     "text": [
      "C:\\ProgramData\\Anaconda3\\lib\\site-packages\\seaborn\\distributions.py:2619: FutureWarning: `distplot` is a deprecated function and will be removed in a future version. Please adapt your code to use either `displot` (a figure-level function with similar flexibility) or `histplot` (an axes-level function for histograms).\n",
      "  warnings.warn(msg, FutureWarning)\n"
     ]
    },
    {
     "data": {
      "image/png": "[encoded data removed]",
      "text/plain": [
       "<Figure size 600x600 with 1 Axes>"
      ]
     },
     "metadata": {},
     "output_type": "display_data"
    }
   ],
   "source": [
    "sns.set()\n",
    "plt.figure(figsize=(6,6))\n",
    "sns.distplot(mi['age'])\n",
    "plt.title('Age Distribution')\n",
    "plt.show()\n"
   ]
  },
  {
   "cell_type": "code",
   "execution_count": 13,
   "id": "a98e1b94",
   "metadata": {},
   "outputs": [
    {
     "data": {
      "image/png": "[encoded data removed]",
      "text/plain": [
       "<Figure size 600x600 with 1 Axes>"
      ]
     },
     "metadata": {},
     "output_type": "display_data"
    }
   ],
   "source": [
    "plt.figure(figsize=(6,6))\n",
    "sns.countplot(x='gender', data=mi)\n",
    "plt.title('gender Distribution')\n",
    "plt.show()"
   ]
  },
  {
   "cell_type": "code",
   "execution_count": 14,
   "id": "bf5829bf",
   "metadata": {},
   "outputs": [
    {
     "data": {
      "text/plain": [
       "1    678\n",
       "0    662\n",
       "Name: gender, dtype: int64"
      ]
     },
     "execution_count": 14,
     "metadata": {},
     "output_type": "execute_result"
    }
   ],
   "source": [
    "mi['gender'].value_counts()"
   ]
  },
  {
   "cell_type": "code",
   "execution_count": 15,
   "id": "fa6fdaec",
   "metadata": {},
   "outputs": [
    {
     "name": "stderr",
     "output_type": "stream",
     "text": [
      "C:\\ProgramData\\Anaconda3\\lib\\site-packages\\seaborn\\distributions.py:2619: FutureWarning: `distplot` is a deprecated function and will be removed in a future version. Please adapt your code to use either `displot` (a figure-level function with similar flexibility) or `histplot` (an axes-level function for histograms).\n",
      "  warnings.warn(msg, FutureWarning)\n"
     ]
    },
    {
     "data": {
      "image/png": "[encoded data removed]",
      "text/plain": [
       "<Figure size 600x600 with 1 Axes>"
      ]
     },
     "metadata": {},
     "output_type": "display_data"
    }
   ],
   "source": [
    "# bmi distribution\n",
    "plt.figure(figsize=(6,6))\n",
    "sns.distplot(mi['bmi'])\n",
    "plt.title('BMI Distribution')\n",
    "plt.show()"
   ]
  },
  {
   "cell_type": "code",
   "execution_count": 16,
   "id": "7d076b26",
   "metadata": {},
   "outputs": [
    {
     "data": {
      "image/png": "[encoded data removed]",
      "text/plain": [
       "<Figure size 600x600 with 1 Axes>"
      ]
     },
     "metadata": {},
     "output_type": "display_data"
    }
   ],
   "source": [
    "# children column\n",
    "plt.figure(figsize=(6,6))\n",
    "sns.countplot(x='children', data=mi)\n",
    "plt.title('Children')\n",
    "plt.show()"
   ]
  },
  {
   "cell_type": "code",
   "execution_count": 17,
   "id": "158d1f94",
   "metadata": {},
   "outputs": [
    {
     "data": {
      "text/plain": [
       "0    576\n",
       "1    324\n",
       "2    240\n",
       "3    157\n",
       "4     25\n",
       "5     18\n",
       "Name: children, dtype: int64"
      ]
     },
     "execution_count": 17,
     "metadata": {},
     "output_type": "execute_result"
    }
   ],
   "source": [
    "mi['children'].value_counts()"
   ]
  },
  {
   "cell_type": "code",
   "execution_count": 18,
   "id": "0f2e4b00",
   "metadata": {},
   "outputs": [
    {
     "data": {
      "image/png": "[encoded data removed]",
      "text/plain": [
       "<Figure size 600x600 with 1 Axes>"
      ]
     },
     "metadata": {},
     "output_type": "display_data"
    }
   ],
   "source": [
    "# smoker column\n",
    "plt.figure(figsize=(6,6))\n",
    "sns.countplot(x='smoker', data=mi)\n",
    "plt.title('smoker')\n",
    "plt.show()"
   ]
  },
  {
   "cell_type": "code",
   "execution_count": 19,
   "id": "f2c98382",
   "metadata": {},
   "outputs": [
    {
     "data": {
      "text/plain": [
       "0    1066\n",
       "1     274\n",
       "Name: smoker, dtype: int64"
      ]
     },
     "execution_count": 19,
     "metadata": {},
     "output_type": "execute_result"
    }
   ],
   "source": [
    "mi['smoker'].value_counts()"
   ]
  },
  {
   "cell_type": "code",
   "execution_count": 20,
   "id": "8762dff4",
   "metadata": {},
   "outputs": [
    {
     "data": {
      "image/png": "[encoded data removed]",
      "text/plain": [
       "<Figure size 600x600 with 1 Axes>"
      ]
     },
     "metadata": {},
     "output_type": "display_data"
    }
   ],
   "source": [
    "# region column\n",
    "plt.figure(figsize=(6,6))\n",
    "sns.countplot(x='region', data=mi)\n",
    "plt.title('region')\n",
    "plt.show()"
   ]
  },
  {
   "cell_type": "code",
   "execution_count": 21,
   "id": "926f0fc7",
   "metadata": {},
   "outputs": [
    {
     "data": {
      "text/plain": [
       "2    443\n",
       "1    349\n",
       "3    317\n",
       "0    231\n",
       "Name: region, dtype: int64"
      ]
     },
     "execution_count": 21,
     "metadata": {},
     "output_type": "execute_result"
    }
   ],
   "source": [
    "mi['region'].value_counts()"
   ]
  },
  {
   "cell_type": "code",
   "execution_count": 22,
   "id": "7d5b8e0c",
   "metadata": {},
   "outputs": [],
   "source": [
    "#encoding gender column\n",
    "mi.replace({'gender':{'male':0,'female':1}}, inplace=True)\n",
    "\n",
    "#encoding 'smoker' column\n",
    "mi.replace({'smoker':{'yes':0,'no':1}}, inplace=True)\n",
    "\n",
    "#encoding 'region' column\n",
    "mi.replace({'region':{'southeast':0,'southwest':1,'northeast':2,'northwest':3}}, inplace=True)"
   ]
  },
  {
   "cell_type": "code",
   "execution_count": null,
   "id": "351d3e87",
   "metadata": {},
   "outputs": [],
   "source": []
  },
  {
   "cell_type": "markdown",
   "id": "aee8dce7",
   "metadata": {},
   "source": [
    "# used in machine learning to split a dataset into training and testing sets"
   ]
  },
  {
   "cell_type": "code",
   "execution_count": 23,
   "id": "76703da4",
   "metadata": {},
   "outputs": [],
   "source": [
    "from sklearn .model_selection import train_test_split\n",
    "mi_train,mi_test=train_test_split(mi,test_size=.2)"
   ]
  },
  {
   "cell_type": "code",
   "execution_count": 24,
   "id": "9645b1f6",
   "metadata": {},
   "outputs": [],
   "source": [
    "mi_train_x=mi_train.iloc[:,0:-1]\n",
    "mi_train_y=mi_train.iloc[:,-1]\n",
    "\n",
    "mi_test_x=mi_test.iloc[:,0:-1]\n",
    "mi_test_y=mi_test.iloc[:,-1]\n"
   ]
  },
  {
   "cell_type": "code",
   "execution_count": 80,
   "id": "81338914",
   "metadata": {},
   "outputs": [
    {
     "data": {
      "text/html": [
       "<div>\n",
       "<style scoped>\n",
       "    .dataframe tbody tr th:only-of-type {\n",
       "        vertical-align: middle;\n",
       "    }\n",
       "\n",
       "    .dataframe tbody tr th {\n",
       "        vertical-align: top;\n",
       "    }\n",
       "\n",
       "    .dataframe thead th {\n",
       "        text-align: right;\n",
       "    }\n",
       "</style>\n",
       "<table border=\"1\" class=\"dataframe\">\n",
       "  <thead>\n",
       "    <tr style=\"text-align: right;\">\n",
       "      <th></th>\n",
       "      <th>PatientID</th>\n",
       "      <th>age</th>\n",
       "      <th>gender</th>\n",
       "      <th>bmi</th>\n",
       "      <th>bloodpressure</th>\n",
       "      <th>diabetic</th>\n",
       "      <th>children</th>\n",
       "      <th>smoker</th>\n",
       "      <th>region</th>\n",
       "    </tr>\n",
       "  </thead>\n",
       "  <tbody>\n",
       "    <tr>\n",
       "      <th>1254</th>\n",
       "      <td>1255</td>\n",
       "      <td>46</td>\n",
       "      <td>1</td>\n",
       "      <td>44.9</td>\n",
       "      <td>138</td>\n",
       "      <td>1</td>\n",
       "      <td>0</td>\n",
       "      <td>1</td>\n",
       "      <td>0</td>\n",
       "    </tr>\n",
       "    <tr>\n",
       "      <th>251</th>\n",
       "      <td>252</td>\n",
       "      <td>30</td>\n",
       "      <td>0</td>\n",
       "      <td>26.6</td>\n",
       "      <td>89</td>\n",
       "      <td>1</td>\n",
       "      <td>0</td>\n",
       "      <td>0</td>\n",
       "      <td>0</td>\n",
       "    </tr>\n",
       "    <tr>\n",
       "      <th>33</th>\n",
       "      <td>34</td>\n",
       "      <td>52</td>\n",
       "      <td>0</td>\n",
       "      <td>36.9</td>\n",
       "      <td>81</td>\n",
       "      <td>0</td>\n",
       "      <td>0</td>\n",
       "      <td>0</td>\n",
       "      <td>0</td>\n",
       "    </tr>\n",
       "    <tr>\n",
       "      <th>1011</th>\n",
       "      <td>1012</td>\n",
       "      <td>32</td>\n",
       "      <td>0</td>\n",
       "      <td>26.8</td>\n",
       "      <td>109</td>\n",
       "      <td>0</td>\n",
       "      <td>1</td>\n",
       "      <td>1</td>\n",
       "      <td>0</td>\n",
       "    </tr>\n",
       "    <tr>\n",
       "      <th>286</th>\n",
       "      <td>287</td>\n",
       "      <td>30</td>\n",
       "      <td>1</td>\n",
       "      <td>27.6</td>\n",
       "      <td>90</td>\n",
       "      <td>0</td>\n",
       "      <td>1</td>\n",
       "      <td>0</td>\n",
       "      <td>0</td>\n",
       "    </tr>\n",
       "    <tr>\n",
       "      <th>...</th>\n",
       "      <td>...</td>\n",
       "      <td>...</td>\n",
       "      <td>...</td>\n",
       "      <td>...</td>\n",
       "      <td>...</td>\n",
       "      <td>...</td>\n",
       "      <td>...</td>\n",
       "      <td>...</td>\n",
       "      <td>...</td>\n",
       "    </tr>\n",
       "    <tr>\n",
       "      <th>128</th>\n",
       "      <td>129</td>\n",
       "      <td>31</td>\n",
       "      <td>1</td>\n",
       "      <td>31.7</td>\n",
       "      <td>90</td>\n",
       "      <td>0</td>\n",
       "      <td>0</td>\n",
       "      <td>0</td>\n",
       "      <td>3</td>\n",
       "    </tr>\n",
       "    <tr>\n",
       "      <th>189</th>\n",
       "      <td>190</td>\n",
       "      <td>37</td>\n",
       "      <td>0</td>\n",
       "      <td>23.4</td>\n",
       "      <td>96</td>\n",
       "      <td>0</td>\n",
       "      <td>2</td>\n",
       "      <td>0</td>\n",
       "      <td>1</td>\n",
       "    </tr>\n",
       "    <tr>\n",
       "      <th>900</th>\n",
       "      <td>901</td>\n",
       "      <td>40</td>\n",
       "      <td>1</td>\n",
       "      <td>38.4</td>\n",
       "      <td>82</td>\n",
       "      <td>0</td>\n",
       "      <td>0</td>\n",
       "      <td>0</td>\n",
       "      <td>3</td>\n",
       "    </tr>\n",
       "    <tr>\n",
       "      <th>906</th>\n",
       "      <td>907</td>\n",
       "      <td>46</td>\n",
       "      <td>0</td>\n",
       "      <td>32.4</td>\n",
       "      <td>108</td>\n",
       "      <td>0</td>\n",
       "      <td>1</td>\n",
       "      <td>0</td>\n",
       "      <td>2</td>\n",
       "    </tr>\n",
       "    <tr>\n",
       "      <th>1316</th>\n",
       "      <td>1317</td>\n",
       "      <td>41</td>\n",
       "      <td>1</td>\n",
       "      <td>41.8</td>\n",
       "      <td>109</td>\n",
       "      <td>1</td>\n",
       "      <td>2</td>\n",
       "      <td>1</td>\n",
       "      <td>0</td>\n",
       "    </tr>\n",
       "  </tbody>\n",
       "</table>\n",
       "<p>1072 rows × 9 columns</p>\n",
       "</div>"
      ],
      "text/plain": [
       "      PatientID  age  gender   bmi  bloodpressure  diabetic  children  smoker  \\\n",
       "1254       1255   46       1  44.9            138         1         0       1   \n",
       "251         252   30       0  26.6             89         1         0       0   \n",
       "33           34   52       0  36.9             81         0         0       0   \n",
       "1011       1012   32       0  26.8            109         0         1       1   \n",
       "286         287   30       1  27.6             90         0         1       0   \n",
       "...         ...  ...     ...   ...            ...       ...       ...     ...   \n",
       "128         129   31       1  31.7             90         0         0       0   \n",
       "189         190   37       0  23.4             96         0         2       0   \n",
       "900         901   40       1  38.4             82         0         0       0   \n",
       "906         907   46       0  32.4            108         0         1       0   \n",
       "1316       1317   41       1  41.8            109         1         2       1   \n",
       "\n",
       "      region  \n",
       "1254       0  \n",
       "251        0  \n",
       "33         0  \n",
       "1011       0  \n",
       "286        0  \n",
       "...      ...  \n",
       "128        3  \n",
       "189        1  \n",
       "900        3  \n",
       "906        2  \n",
       "1316       0  \n",
       "\n",
       "[1072 rows x 9 columns]"
      ]
     },
     "execution_count": 80,
     "metadata": {},
     "output_type": "execute_result"
    }
   ],
   "source": [
    "mi_train_x"
   ]
  },
  {
   "cell_type": "code",
   "execution_count": 25,
   "id": "0620e973",
   "metadata": {},
   "outputs": [
    {
     "data": {
      "text/plain": [
       "1338    62592.87\n",
       "40       1634.57\n",
       "411      5693.43\n",
       "228      3443.06\n",
       "132      2304.00\n",
       "          ...   \n",
       "1148    26109.33\n",
       "306      4435.09\n",
       "921     13390.56\n",
       "657      9182.17\n",
       "788     11253.42\n",
       "Name: claim, Length: 1072, dtype: float64"
      ]
     },
     "execution_count": 25,
     "metadata": {},
     "output_type": "execute_result"
    }
   ],
   "source": [
    "mi_train_y"
   ]
  },
  {
   "cell_type": "markdown",
   "id": "38a745ce",
   "metadata": {},
   "source": [
    "# Feature Engineering:"
   ]
  },
  {
   "cell_type": "code",
   "execution_count": 26,
   "id": "572e3abe",
   "metadata": {},
   "outputs": [],
   "source": [
    "from sklearn.linear_model import LinearRegression\n",
    "linreg=LinearRegression()"
   ]
  },
  {
   "cell_type": "code",
   "execution_count": null,
   "id": "9efa0901",
   "metadata": {},
   "outputs": [],
   "source": []
  },
  {
   "cell_type": "code",
   "execution_count": 27,
   "id": "94c641f3",
   "metadata": {},
   "outputs": [
    {
     "data": {
      "text/plain": [
       "LinearRegression()"
      ]
     },
     "execution_count": 27,
     "metadata": {},
     "output_type": "execute_result"
    }
   ],
   "source": [
    "linreg.fit(mi_train_x,mi_train_y)"
   ]
  },
  {
   "cell_type": "code",
   "execution_count": 28,
   "id": "7d4523dd",
   "metadata": {},
   "outputs": [],
   "source": [
    "pred=linreg.predict(mi_train_x)"
   ]
  },
  {
   "cell_type": "code",
   "execution_count": 29,
   "id": "0c156c71",
   "metadata": {},
   "outputs": [
    {
     "data": {
      "text/plain": [
       "0.8729871565561812"
      ]
     },
     "execution_count": 29,
     "metadata": {},
     "output_type": "execute_result"
    }
   ],
   "source": [
    "rsquare=linreg.score(mi_train_x,mi_train_y)\n",
    "rsquare"
   ]
  },
  {
   "cell_type": "code",
   "execution_count": 30,
   "id": "86bf84b6",
   "metadata": {},
   "outputs": [],
   "source": [
    "from sklearn .metrics import mean_squared_error"
   ]
  },
  {
   "cell_type": "code",
   "execution_count": 45,
   "id": "0fc5f1c2",
   "metadata": {},
   "outputs": [
    {
     "data": {
      "text/plain": [
       "19585808.373924185"
      ]
     },
     "execution_count": 45,
     "metadata": {},
     "output_type": "execute_result"
    }
   ],
   "source": [
    "mse_linreg=mean_squared_error(mi_train_y,pred)\n",
    "mse_linreg"
   ]
  },
  {
   "cell_type": "code",
   "execution_count": 32,
   "id": "2cdd7ee4",
   "metadata": {},
   "outputs": [],
   "source": [
    "from sklearn.tree import DecisionTreeRegressor\n",
    "dt=DecisionTreeRegressor()"
   ]
  },
  {
   "cell_type": "code",
   "execution_count": 33,
   "id": "fb603ccf",
   "metadata": {},
   "outputs": [
    {
     "data": {
      "text/plain": [
       "DecisionTreeRegressor()"
      ]
     },
     "execution_count": 33,
     "metadata": {},
     "output_type": "execute_result"
    }
   ],
   "source": [
    "dt.fit(mi_train_x,mi_train_y)"
   ]
  },
  {
   "cell_type": "code",
   "execution_count": 34,
   "id": "f1554150",
   "metadata": {},
   "outputs": [],
   "source": [
    "pred_dt = dt.predict(mi_test_x)"
   ]
  },
  {
   "cell_type": "code",
   "execution_count": 47,
   "id": "a48be977",
   "metadata": {},
   "outputs": [
    {
     "data": {
      "text/plain": [
       "1.0"
      ]
     },
     "execution_count": 47,
     "metadata": {},
     "output_type": "execute_result"
    }
   ],
   "source": [
    "rsquare=dt.score(mi_train_x,mi_train_y)\n",
    "rsquare"
   ]
  },
  {
   "cell_type": "code",
   "execution_count": 44,
   "id": "30ff1371",
   "metadata": {},
   "outputs": [
    {
     "data": {
      "text/plain": [
       "16831.897117537294"
      ]
     },
     "execution_count": 44,
     "metadata": {},
     "output_type": "execute_result"
    }
   ],
   "source": [
    "mse_dt=mean_squared_error(mi_test_y,pred_dt)\n",
    "mse_dt"
   ]
  },
  {
   "cell_type": "code",
   "execution_count": 36,
   "id": "0eb7e31b",
   "metadata": {},
   "outputs": [],
   "source": [
    "from sklearn .ensemble import RandomForestRegressor\n",
    "rfc= RandomForestRegressor()"
   ]
  },
  {
   "cell_type": "code",
   "execution_count": 37,
   "id": "aa57f71c",
   "metadata": {},
   "outputs": [
    {
     "data": {
      "text/plain": [
       "RandomForestRegressor()"
      ]
     },
     "execution_count": 37,
     "metadata": {},
     "output_type": "execute_result"
    }
   ],
   "source": [
    "rfc.fit(mi_train_x,mi_train_y)"
   ]
  },
  {
   "cell_type": "code",
   "execution_count": 38,
   "id": "64701f1b",
   "metadata": {},
   "outputs": [],
   "source": [
    "pred_rfc = rfc.predict(mi_test_x)"
   ]
  },
  {
   "cell_type": "code",
   "execution_count": 48,
   "id": "a0ea9ad2",
   "metadata": {},
   "outputs": [
    {
     "data": {
      "text/plain": [
       "0.9999682301899508"
      ]
     },
     "execution_count": 48,
     "metadata": {},
     "output_type": "execute_result"
    }
   ],
   "source": [
    "rsquare=rfc.score(mi_train_x,mi_train_y)\n",
    "rsquare"
   ]
  },
  {
   "cell_type": "code",
   "execution_count": 43,
   "id": "c23be202",
   "metadata": {},
   "outputs": [
    {
     "data": {
      "text/plain": [
       "7729.145827754595"
      ]
     },
     "execution_count": 43,
     "metadata": {},
     "output_type": "execute_result"
    }
   ],
   "source": [
    "mse_rfc=mean_squared_error(mi_test_y,pred_rfc)\n",
    "mse_rfc"
   ]
  },
  {
   "cell_type": "code",
   "execution_count": 42,
   "id": "c2618138",
   "metadata": {},
   "outputs": [
    {
     "data": {
      "image/png": "[encoded data removed]",
      "text/plain": [
       "<Figure size 1000x600 with 1 Axes>"
      ]
     },
     "metadata": {},
     "output_type": "display_data"
    }
   ],
   "source": [
    "models = ['LinearRegression', 'DecisionTreeClassifier','RandomForestClassifier']\n",
    "mse_values= [mse_linreg,mse_dt,mse_rfc]\n",
    "df = pd.DataFrame({'Model': models, 'ACC': mse_values})\n",
    "\n",
    "# Plot the results using Seaborn\n",
    "plt.figure(figsize=(10, 6))\n",
    "sns.barplot(x='Model', y='ACC', data=df, palette='viridis')\n",
    "plt.title('Comparison of MSE for Different Regression Models')\n",
    "plt.tight_layout()\n",
    "plt.show()"
   ]
  },
  {
   "cell_type": "code",
   "execution_count": null,
   "id": "9b8f1218",
   "metadata": {},
   "outputs": [],
   "source": [
    "# Cluclusion --Lower the MSE Better is the model \n",
    "# In this Medical insurance Data Random Forest Classifier is performing Best."
   ]
  },
  {
   "cell_type": "code",
   "execution_count": null,
   "id": "ff180ebc",
   "metadata": {},
   "outputs": [],
   "source": [
    "#Adjust premium rates for different policyholders to reflect their risk profiles, ensuring fairness and competitiveness."
   ]
  },
  {
   "cell_type": "code",
   "execution_count": null,
   "id": "80764fee",
   "metadata": {},
   "outputs": [],
   "source": [
    "\n"
   ]
  }
 ],
 "metadata": {
  "kernelspec": {
   "display_name": "Python 3 (ipykernel)",
   "language": "python",
   "name": "python3"
  },
  "language_info": {
   "codemirror_mode": {
    "name": "ipython",
    "version": 3
   },
   "file_extension": ".py",
   "mimetype": "text/x-python",
   "name": "python",
   "nbconvert_exporter": "python",
   "pygments_lexer": "ipython3",
   "version": "3.9.13"
  }
 },
 "nbformat": 4,
 "nbformat_minor": 5
}
